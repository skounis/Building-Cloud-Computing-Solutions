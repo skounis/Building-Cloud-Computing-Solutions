{
  "nbformat": 4,
  "nbformat_minor": 0,
  "metadata": {
    "colab": {
      "name": "GPU-Programming.ipynb",
      "provenance": [],
      "authorship_tag": "ABX9TyMPnoowwUZus2Tv4oWmhvnc",
      "include_colab_link": true
    },
    "kernelspec": {
      "name": "python3",
      "display_name": "Python 3"
    },
    "accelerator": "GPU"
  },
  "cells": [
    {
      "cell_type": "markdown",
      "metadata": {
        "id": "view-in-github",
        "colab_type": "text"
      },
      "source": [
        "<a href=\"https://colab.research.google.com/github/noahgift/cloud-data-analysis-at-scale/blob/master/GPU_Programming.ipynb\" target=\"_parent\"><img src=\"https://colab.research.google.com/assets/colab-badge.svg\" alt=\"Open In Colab\"/></a>"
      ]
    },
    {
      "cell_type": "markdown",
      "metadata": {
        "id": "Ju6xqhsJw-MR",
        "colab_type": "text"
      },
      "source": [
        "## GPU Demos"
      ]
    },
    {
      "cell_type": "markdown",
      "metadata": {
        "id": "7kCq-WoUUDRV",
        "colab_type": "text"
      },
      "source": [
        "### Install and Imports"
      ]
    },
    {
      "cell_type": "markdown",
      "metadata": {
        "id": "calQiUxRUIlk",
        "colab_type": "text"
      },
      "source": [
        "Do a `pip install` of the [numba](https://numba.pydata.org/) library and check for where the cuda `.so` files are kept.  If a `.so` appears CUDA is likely installed."
      ]
    },
    {
      "cell_type": "code",
      "metadata": {
        "id": "_9_HoXwERH1i",
        "colab_type": "code",
        "outputId": "dee8c7f1-032e-4895-f6dc-908f610e7228",
        "colab": {
          "base_uri": "https://localhost:8080/",
          "height": 156
        }
      },
      "source": [
        "!pip install numba\n",
        "!find / -iname 'libdevice'\n",
        "!find / -iname 'libnvvm.so'"
      ],
      "execution_count": 1,
      "outputs": [
        {
          "output_type": "stream",
          "text": [
            "Requirement already satisfied: numba in /usr/local/lib/python3.6/dist-packages (0.47.0)\n",
            "Requirement already satisfied: setuptools in /usr/local/lib/python3.6/dist-packages (from numba) (45.1.0)\n",
            "Requirement already satisfied: numpy in /usr/local/lib/python3.6/dist-packages (from numba) (1.17.5)\n",
            "Requirement already satisfied: llvmlite>=0.31.0dev0 in /usr/local/lib/python3.6/dist-packages (from numba) (0.31.0)\n",
            "/usr/local/cuda-10.0/nvvm/libdevice\n",
            "/usr/local/cuda-10.1/nvvm/libdevice\n",
            "/usr/local/cuda-10.0/nvvm/lib64/libnvvm.so\n",
            "/usr/local/cuda-10.1/nvvm/lib64/libnvvm.so\n"
          ],
          "name": "stdout"
        }
      ]
    },
    {
      "cell_type": "markdown",
      "metadata": {
        "id": "BknYtVD3U3JO",
        "colab_type": "text"
      },
      "source": [
        "Install libraries"
      ]
    },
    {
      "cell_type": "code",
      "metadata": {
        "id": "RizeFcTRRSBP",
        "colab_type": "code",
        "colab": {}
      },
      "source": [
        "%matplotlib inline\n",
        "from matplotlib import pyplot as plt\n",
        "import numpy as np\n",
        "import math\n",
        "from numba import jit, njit, vectorize, cuda, uint32, f8, uint8\n",
        "from pylab import imshow, show\n",
        "from timeit import default_timer as timer"
      ],
      "execution_count": 0,
      "outputs": []
    },
    {
      "cell_type": "markdown",
      "metadata": {
        "id": "Re9jdU5nxBYx",
        "colab_type": "text"
      },
      "source": [
        "### Mandelbrot"
      ]
    },
    {
      "cell_type": "markdown",
      "metadata": {
        "id": "9iISjADi2D_Y",
        "colab_type": "text"
      },
      "source": [
        "##### Non-GPU Mandelbrot"
      ]
    },
    {
      "cell_type": "code",
      "metadata": {
        "id": "T6KviMLo10I9",
        "colab_type": "code",
        "colab": {}
      },
      "source": [
        "def mandel(x, y, max_iters):\n",
        "  \"\"\"\n",
        "    Given the real and imaginary parts of a complex number,\n",
        "    determine if it is a candidate for membership in the Mandelbrot\n",
        "    set given a fixed number of iterations.\n",
        "  \"\"\"\n",
        "  c = complex(x, y)\n",
        "  z = 0.0j\n",
        "  for i in range(max_iters):\n",
        "    z = z*z + c\n",
        "    if (z.real*z.real + z.imag*z.imag) >= 4:\n",
        "      return i\n",
        "\n",
        "  return max_iters"
      ],
      "execution_count": 0,
      "outputs": []
    },
    {
      "cell_type": "code",
      "metadata": {
        "id": "_2K9mG5P12b1",
        "colab_type": "code",
        "colab": {}
      },
      "source": [
        "def create_fractal(min_x, max_x, min_y, max_y, image, iters):\n",
        "  height = image.shape[0]\n",
        "  width = image.shape[1]\n",
        "\n",
        "  pixel_size_x = (max_x - min_x) / width\n",
        "  pixel_size_y = (max_y - min_y) / height\n",
        "    \n",
        "  for x in range(width):\n",
        "    real = min_x + x * pixel_size_x\n",
        "    for y in range(height):\n",
        "      imag = min_y + y * pixel_size_y\n",
        "      color = mandel(real, imag, iters)\n",
        "      image[y, x] = color"
      ],
      "execution_count": 0,
      "outputs": []
    },
    {
      "cell_type": "code",
      "metadata": {
        "id": "3SdUxzp-19Jc",
        "colab_type": "code",
        "outputId": "afe95b71-c420-4f5f-b374-0da0fed233ad",
        "colab": {
          "base_uri": "https://localhost:8080/",
          "height": 287
        }
      },
      "source": [
        "image = np.zeros((1024, 1536), dtype = np.uint8)\n",
        "start = timer()\n",
        "create_fractal(-2.0, 1.0, -1.0, 1.0, image, 20) \n",
        "dt = timer() - start\n",
        "\n",
        "print(\"Mandelbrot created in %f s\" % dt)\n",
        "imshow(image)\n",
        "show()"
      ],
      "execution_count": 9,
      "outputs": [
        {
          "output_type": "stream",
          "text": [
            "Mandelbrot created in 4.805243 s\n"
          ],
          "name": "stdout"
        },
        {
          "output_type": "display_data",
          "data": {
            "image/png": "[encoded data removed]",
            "text/plain": [
              "<Figure size 432x288 with 1 Axes>"
            ]
          },
          "metadata": {
            "tags": []
          }
        }
      ]
    },
    {
      "cell_type": "markdown",
      "metadata": {
        "id": "3eBtMqwD2I4f",
        "colab_type": "text"
      },
      "source": [
        "##### Numba Mandelbrot"
      ]
    },
    {
      "cell_type": "markdown",
      "metadata": {
        "id": "Jjzp4kAj7yN5",
        "colab_type": "text"
      },
      "source": [
        "Numba is [LLVM JIT](http://numba.pydata.org/) support for Python"
      ]
    },
    {
      "cell_type": "markdown",
      "metadata": {
        "id": "P1M03OI67s08",
        "colab_type": "text"
      },
      "source": [
        "###### Run Numba Mandelbrot"
      ]
    },
    {
      "cell_type": "code",
      "metadata": {
        "id": "d8IlJnNu2e1W",
        "colab_type": "code",
        "colab": {}
      },
      "source": [
        "@jit\n",
        "def mandel(x, y, max_iters):\n",
        "  \"\"\"\n",
        "    Given the real and imaginary parts of a complex number,\n",
        "    determine if it is a candidate for membership in the Mandelbrot\n",
        "    set given a fixed number of iterations.\n",
        "  \"\"\"\n",
        "  c = complex(x, y)\n",
        "  z = 0.0j\n",
        "  for i in range(max_iters):\n",
        "    z = z*z + c\n",
        "    if (z.real*z.real + z.imag*z.imag) >= 4:\n",
        "      return i\n",
        "\n",
        "  return max_iters\n",
        "\n",
        "@jit\n",
        "def create_fractal(min_x, max_x, min_y, max_y, image, iters):\n",
        "  height = image.shape[0]\n",
        "  width = image.shape[1]\n",
        "\n",
        "  pixel_size_x = (max_x - min_x) / width\n",
        "  pixel_size_y = (max_y - min_y) / height\n",
        "    \n",
        "  for x in range(width):\n",
        "    real = min_x + x * pixel_size_x\n",
        "    for y in range(height):\n",
        "      imag = min_y + y * pixel_size_y\n",
        "      color = mandel(real, imag, iters)\n",
        "      image[y, x] = color"
      ],
      "execution_count": 0,
      "outputs": []
    },
    {
      "cell_type": "code",
      "metadata": {
        "id": "g0ovBdjl2rsn",
        "colab_type": "code",
        "outputId": "abf8edbf-563e-4208-d3bb-dc8a992155bf",
        "colab": {
          "base_uri": "https://localhost:8080/",
          "height": 287
        }
      },
      "source": [
        "image = np.zeros((1024, 1536), dtype = np.uint8)\n",
        "start = timer()\n",
        "create_fractal(-2.0, 1.0, -1.0, 1.0, image, 20) \n",
        "dt = timer() - start\n",
        "\n",
        "print(\"Mandelbrot created in %f s\" % dt)\n",
        "imshow(image)\n",
        "show()"
      ],
      "execution_count": 12,
      "outputs": [
        {
          "output_type": "stream",
          "text": [
            "Mandelbrot created in 0.421521 s\n"
          ],
          "name": "stdout"
        },
        {
          "output_type": "display_data",
          "data": {
            "image/png": "[encoded data removed]",
            "text/plain": [
              "<Figure size 432x288 with 1 Axes>"
            ]
          },
          "metadata": {
            "tags": []
          }
        }
      ]
    },
    {
      "cell_type": "markdown",
      "metadata": {
        "id": "13WPkJ5P2ud1",
        "colab_type": "text"
      },
      "source": [
        "##### CUDA GPU Mandelbrot"
      ]
    },
    {
      "cell_type": "code",
      "metadata": {
        "id": "Bg00L6HA21Oe",
        "colab_type": "code",
        "colab": {}
      },
      "source": [
        "mandel_gpu = cuda.jit(restype=uint32, argtypes=[f8, f8, uint32], device=True)(mandel)"
      ],
      "execution_count": 0,
      "outputs": []
    },
    {
      "cell_type": "code",
      "metadata": {
        "id": "M31bUz5Y22sx",
        "colab_type": "code",
        "colab": {}
      },
      "source": [
        "@cuda.jit(argtypes=[f8, f8, f8, f8, uint8[:,:], uint32])\n",
        "def mandel_kernel(min_x, max_x, min_y, max_y, image, iters):\n",
        "  height = image.shape[0]\n",
        "  width = image.shape[1]\n",
        "\n",
        "  pixel_size_x = (max_x - min_x) / width\n",
        "  pixel_size_y = (max_y - min_y) / height\n",
        "\n",
        "  startX, startY = cuda.grid(2)\n",
        "  gridX = cuda.gridDim.x * cuda.blockDim.x;\n",
        "  gridY = cuda.gridDim.y * cuda.blockDim.y;\n",
        "\n",
        "  for x in range(startX, width, gridX):\n",
        "    real = min_x + x * pixel_size_x\n",
        "    for y in range(startY, height, gridY):\n",
        "      imag = min_y + y * pixel_size_y \n",
        "      image[y, x] = mandel_gpu(real, imag, iters)"
      ],
      "execution_count": 0,
      "outputs": []
    },
    {
      "cell_type": "code",
      "metadata": {
        "id": "hfH-xwR_7WX0",
        "colab_type": "code",
        "outputId": "744eadec-74a5-4451-8044-b8708951f4ab",
        "colab": {
          "base_uri": "https://localhost:8080/",
          "height": 287
        }
      },
      "source": [
        "image = np.zeros((1024, 1536), dtype = np.uint8)\n",
        "start = timer()\n",
        "create_fractal(-2.0, 1.0, -1.0, 1.0, image, 20) \n",
        "dt = timer() - start\n",
        "\n",
        "print(\"Mandelbrot created in %f s\" % dt)\n",
        "imshow(image)\n",
        "show()"
      ],
      "execution_count": 0,
      "outputs": [
        {
          "output_type": "stream",
          "text": [
            "Mandelbrot created in 0.344193 s\n"
          ],
          "name": "stdout"
        },
        {
          "output_type": "display_data",
          "data": {
            "image/png": "[encoded data removed]",
            "text/plain": [
              "<Figure size 432x288 with 1 Axes>"
            ]
          },
          "metadata": {
            "tags": []
          }
        }
      ]
    },
    {
      "cell_type": "markdown",
      "metadata": {
        "id": "9yeFvfri9qC6",
        "colab_type": "text"
      },
      "source": [
        "##### Cuda Vectorize"
      ]
    },
    {
      "cell_type": "code",
      "metadata": {
        "id": "apd8ic7m-BZB",
        "colab_type": "code",
        "outputId": "6f4d2400-3c00-45db-957e-93ec95d0257b",
        "colab": {
          "base_uri": "https://localhost:8080/",
          "height": 225
        }
      },
      "source": [
        "from numba import (cuda, vectorize)\n",
        "import pandas as pd\n",
        "import numpy as np\n",
        "from sklearn.preprocessing import MinMaxScaler\n",
        "from sklearn.cluster import KMeans\n",
        "\n",
        "from functools import wraps\n",
        "from time import time\n",
        "\n",
        "def real_estate_df():\n",
        "    \"\"\"30 Years of Housing Prices\"\"\"\n",
        "\n",
        "    df = pd.read_csv(\"https://raw.githubusercontent.com/noahgift/real_estate_ml/master/data/Zip_Zhvi_SingleFamilyResidence.csv\")\n",
        "    df.rename(columns={\"RegionName\":\"ZipCode\"}, inplace=True)\n",
        "    df[\"ZipCode\"]=df[\"ZipCode\"].map(lambda x: \"{:.0f}\".format(x))\n",
        "    df[\"RegionID\"]=df[\"RegionID\"].map(lambda x: \"{:.0f}\".format(x))\n",
        "    return df\n",
        "\n",
        "def numerical_real_estate_array(df):\n",
        "    \"\"\"Converts df to numpy numerical array\"\"\"\n",
        "\n",
        "    columns_to_drop = ['RegionID', 'ZipCode', 'City', 'State', 'Metro', 'CountyName']\n",
        "    df_numerical = df.dropna()\n",
        "    df_numerical = df_numerical.drop(columns_to_drop, axis=1)\n",
        "    return df_numerical.values\n",
        "\n",
        "def real_estate_array():\n",
        "    \"\"\"Returns Real Estate Array\"\"\"\n",
        "\n",
        "    df = real_estate_df()\n",
        "    rea = numerical_real_estate_array(df)\n",
        "    return np.float32(rea)\n",
        "\n",
        "\n",
        "@vectorize(['float32(float32, float32)'], target='cuda')\n",
        "def add_ufunc(x, y):\n",
        "    return x + y\n",
        "\n",
        "def cuda_operation():\n",
        "    \"\"\"Performs Vectorized Operations on GPU\"\"\"\n",
        "\n",
        "    x = real_estate_array()\n",
        "    y = real_estate_array()\n",
        "\n",
        "    print(\"Moving calculations to GPU memory\")\n",
        "    x_device = cuda.to_device(x)\n",
        "    y_device = cuda.to_device(y)\n",
        "    out_device = cuda.device_array(\n",
        "        shape=(x_device.shape[0],x_device.shape[1]), dtype=np.float32)\n",
        "    print(x_device)\n",
        "    print(x_device.shape)\n",
        "    print(x_device.dtype)\n",
        "\n",
        "    print(\"Calculating on GPU\")\n",
        "    add_ufunc(x_device,y_device, out=out_device)\n",
        "\n",
        "    out_host = out_device.copy_to_host()\n",
        "    print(f\"Calculations from GPU {out_host}\")\n",
        "\n",
        "cuda_operation()"
      ],
      "execution_count": 6,
      "outputs": [
        {
          "output_type": "stream",
          "text": [
            "Moving calculations to GPU memory\n",
            "<numba.cuda.cudadrv.devicearray.DeviceNDArray object at 0x7fc8e54df128>\n",
            "(10015, 259)\n",
            "float32\n",
            "Calculating on GPU\n",
            "Calculations from GPU [[2.0000e+00 8.4160e+05 8.4700e+05 ... 2.1086e+06 2.0970e+06 2.0888e+06]\n",
            " [4.0000e+00 1.0848e+06 1.0934e+06 ... 3.0316e+06 3.0398e+06 3.0506e+06]\n",
            " [6.0000e+00 1.4180e+05 1.4240e+05 ... 2.2760e+05 2.2700e+05 2.2660e+05]\n",
            " ...\n",
            " [3.0554e+04 1.9780e+05 1.9620e+05 ... 4.3960e+05 4.4000e+05 4.4080e+05]\n",
            " [3.0560e+04 1.7340e+05 1.7500e+05 ... 3.8140e+05 3.8460e+05 3.8720e+05]\n",
            " [3.0562e+04 5.0700e+05 5.0800e+05 ... 1.5672e+06 1.5590e+06 1.5484e+06]]\n"
          ],
          "name": "stdout"
        }
      ]
    },
    {
      "cell_type": "code",
      "metadata": {
        "id": "t_SAHKhgd_AJ",
        "colab_type": "code",
        "colab": {}
      },
      "source": [
        ""
      ],
      "execution_count": 0,
      "outputs": []
    },
    {
      "cell_type": "code",
      "metadata": {
        "id": "KIuny7AYTQyi",
        "colab_type": "code",
        "colab": {}
      },
      "source": [
        ""
      ],
      "execution_count": 0,
      "outputs": []
    }
  ]
}
